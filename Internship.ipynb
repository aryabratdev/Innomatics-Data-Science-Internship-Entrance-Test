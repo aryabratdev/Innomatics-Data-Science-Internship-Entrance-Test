{
 "cells": [
  {
   "cell_type": "code",
   "execution_count": 1,
   "id": "c565838a",
   "metadata": {},
   "outputs": [],
   "source": [
    "import numpy as np\n",
    "import pandas as pd\n",
    "import matplotlib.pyplot as plt\n",
    "import seaborn as sns\n",
    "import warnings\n",
    "warnings.filterwarnings('ignore')\n",
    "import sklearn"
   ]
  },
  {
   "cell_type": "code",
   "execution_count": 5,
   "id": "68236779",
   "metadata": {},
   "outputs": [],
   "source": [
    "moviesdf=pd.read_csv(\"movies.csv\")\n",
    "ratingdf=pd.read_csv(\"ratings.csv\")\n",
    "tagdf=pd.read_csv(\"tags.csv\")\n",
    "linkdf=pd.read_csv(\"links.csv\")"
   ]
  },
  {
   "cell_type": "markdown",
   "id": "31bd456f",
   "metadata": {},
   "source": [
    "## How many unique \"userId\" are available in \"ratings.csv\"?¶"
   ]
  },
  {
   "cell_type": "code",
   "execution_count": 6,
   "id": "2abcb181",
   "metadata": {},
   "outputs": [],
   "source": [
    "df=ratingdf[\"userId\"].unique()"
   ]
  },
  {
   "cell_type": "code",
   "execution_count": 7,
   "id": "f3e460ce",
   "metadata": {},
   "outputs": [
    {
     "data": {
      "text/plain": [
       "610"
      ]
     },
     "execution_count": 7,
     "metadata": {},
     "output_type": "execute_result"
    }
   ],
   "source": [
    "len(df)"
   ]
  },
  {
   "cell_type": "code",
   "execution_count": 150,
   "id": "76497cff",
   "metadata": {},
   "outputs": [],
   "source": [
    "# df=pd.merge(df,df1)"
   ]
  },
  {
   "cell_type": "code",
   "execution_count": 151,
   "id": "f59f34bf",
   "metadata": {},
   "outputs": [],
   "source": [
    "# df.head()"
   ]
  },
  {
   "cell_type": "code",
   "execution_count": 8,
   "id": "048ef735",
   "metadata": {},
   "outputs": [],
   "source": [
    "# df = pd.concat([df, df1, vi,ad], axis=1, join='inner')\n",
    "df1 = pd.merge(linkdf, moviesdf, on='movieId')\n",
    "df2 = pd.merge(df1, ratingdf, on='movieId')\n",
    "df = pd.merge(df2, tagdf, on='movieId')"
   ]
  },
  {
   "cell_type": "code",
   "execution_count": 9,
   "id": "60934403",
   "metadata": {},
   "outputs": [
    {
     "data": {
      "text/html": [
       "<div>\n",
       "<style scoped>\n",
       "    .dataframe tbody tr th:only-of-type {\n",
       "        vertical-align: middle;\n",
       "    }\n",
       "\n",
       "    .dataframe tbody tr th {\n",
       "        vertical-align: top;\n",
       "    }\n",
       "\n",
       "    .dataframe thead th {\n",
       "        text-align: right;\n",
       "    }\n",
       "</style>\n",
       "<table border=\"1\" class=\"dataframe\">\n",
       "  <thead>\n",
       "    <tr style=\"text-align: right;\">\n",
       "      <th></th>\n",
       "      <th>movieId</th>\n",
       "      <th>imdbId</th>\n",
       "      <th>tmdbId</th>\n",
       "      <th>title</th>\n",
       "      <th>genres</th>\n",
       "      <th>userId_x</th>\n",
       "      <th>rating</th>\n",
       "      <th>timestamp_x</th>\n",
       "      <th>userId_y</th>\n",
       "      <th>tag</th>\n",
       "      <th>timestamp_y</th>\n",
       "    </tr>\n",
       "  </thead>\n",
       "  <tbody>\n",
       "    <tr>\n",
       "      <th>0</th>\n",
       "      <td>1</td>\n",
       "      <td>114709</td>\n",
       "      <td>862.0</td>\n",
       "      <td>Toy Story (1995)</td>\n",
       "      <td>Adventure|Animation|Children|Comedy|Fantasy</td>\n",
       "      <td>1</td>\n",
       "      <td>4.0</td>\n",
       "      <td>964982703</td>\n",
       "      <td>336</td>\n",
       "      <td>pixar</td>\n",
       "      <td>1139045764</td>\n",
       "    </tr>\n",
       "    <tr>\n",
       "      <th>1</th>\n",
       "      <td>1</td>\n",
       "      <td>114709</td>\n",
       "      <td>862.0</td>\n",
       "      <td>Toy Story (1995)</td>\n",
       "      <td>Adventure|Animation|Children|Comedy|Fantasy</td>\n",
       "      <td>1</td>\n",
       "      <td>4.0</td>\n",
       "      <td>964982703</td>\n",
       "      <td>474</td>\n",
       "      <td>pixar</td>\n",
       "      <td>1137206825</td>\n",
       "    </tr>\n",
       "    <tr>\n",
       "      <th>2</th>\n",
       "      <td>1</td>\n",
       "      <td>114709</td>\n",
       "      <td>862.0</td>\n",
       "      <td>Toy Story (1995)</td>\n",
       "      <td>Adventure|Animation|Children|Comedy|Fantasy</td>\n",
       "      <td>1</td>\n",
       "      <td>4.0</td>\n",
       "      <td>964982703</td>\n",
       "      <td>567</td>\n",
       "      <td>fun</td>\n",
       "      <td>1525286013</td>\n",
       "    </tr>\n",
       "    <tr>\n",
       "      <th>3</th>\n",
       "      <td>1</td>\n",
       "      <td>114709</td>\n",
       "      <td>862.0</td>\n",
       "      <td>Toy Story (1995)</td>\n",
       "      <td>Adventure|Animation|Children|Comedy|Fantasy</td>\n",
       "      <td>5</td>\n",
       "      <td>4.0</td>\n",
       "      <td>847434962</td>\n",
       "      <td>336</td>\n",
       "      <td>pixar</td>\n",
       "      <td>1139045764</td>\n",
       "    </tr>\n",
       "    <tr>\n",
       "      <th>4</th>\n",
       "      <td>1</td>\n",
       "      <td>114709</td>\n",
       "      <td>862.0</td>\n",
       "      <td>Toy Story (1995)</td>\n",
       "      <td>Adventure|Animation|Children|Comedy|Fantasy</td>\n",
       "      <td>5</td>\n",
       "      <td>4.0</td>\n",
       "      <td>847434962</td>\n",
       "      <td>474</td>\n",
       "      <td>pixar</td>\n",
       "      <td>1137206825</td>\n",
       "    </tr>\n",
       "    <tr>\n",
       "      <th>...</th>\n",
       "      <td>...</td>\n",
       "      <td>...</td>\n",
       "      <td>...</td>\n",
       "      <td>...</td>\n",
       "      <td>...</td>\n",
       "      <td>...</td>\n",
       "      <td>...</td>\n",
       "      <td>...</td>\n",
       "      <td>...</td>\n",
       "      <td>...</td>\n",
       "      <td>...</td>\n",
       "    </tr>\n",
       "    <tr>\n",
       "      <th>233208</th>\n",
       "      <td>187595</td>\n",
       "      <td>3778644</td>\n",
       "      <td>348350.0</td>\n",
       "      <td>Solo: A Star Wars Story (2018)</td>\n",
       "      <td>Action|Adventure|Children|Sci-Fi</td>\n",
       "      <td>586</td>\n",
       "      <td>5.0</td>\n",
       "      <td>1529899556</td>\n",
       "      <td>62</td>\n",
       "      <td>star wars</td>\n",
       "      <td>1528934552</td>\n",
       "    </tr>\n",
       "    <tr>\n",
       "      <th>233209</th>\n",
       "      <td>193565</td>\n",
       "      <td>1636780</td>\n",
       "      <td>71172.0</td>\n",
       "      <td>Gintama: The Movie (2010)</td>\n",
       "      <td>Action|Animation|Comedy|Sci-Fi</td>\n",
       "      <td>184</td>\n",
       "      <td>3.5</td>\n",
       "      <td>1537098554</td>\n",
       "      <td>184</td>\n",
       "      <td>anime</td>\n",
       "      <td>1537098582</td>\n",
       "    </tr>\n",
       "    <tr>\n",
       "      <th>233210</th>\n",
       "      <td>193565</td>\n",
       "      <td>1636780</td>\n",
       "      <td>71172.0</td>\n",
       "      <td>Gintama: The Movie (2010)</td>\n",
       "      <td>Action|Animation|Comedy|Sci-Fi</td>\n",
       "      <td>184</td>\n",
       "      <td>3.5</td>\n",
       "      <td>1537098554</td>\n",
       "      <td>184</td>\n",
       "      <td>comedy</td>\n",
       "      <td>1537098587</td>\n",
       "    </tr>\n",
       "    <tr>\n",
       "      <th>233211</th>\n",
       "      <td>193565</td>\n",
       "      <td>1636780</td>\n",
       "      <td>71172.0</td>\n",
       "      <td>Gintama: The Movie (2010)</td>\n",
       "      <td>Action|Animation|Comedy|Sci-Fi</td>\n",
       "      <td>184</td>\n",
       "      <td>3.5</td>\n",
       "      <td>1537098554</td>\n",
       "      <td>184</td>\n",
       "      <td>gintama</td>\n",
       "      <td>1537098603</td>\n",
       "    </tr>\n",
       "    <tr>\n",
       "      <th>233212</th>\n",
       "      <td>193565</td>\n",
       "      <td>1636780</td>\n",
       "      <td>71172.0</td>\n",
       "      <td>Gintama: The Movie (2010)</td>\n",
       "      <td>Action|Animation|Comedy|Sci-Fi</td>\n",
       "      <td>184</td>\n",
       "      <td>3.5</td>\n",
       "      <td>1537098554</td>\n",
       "      <td>184</td>\n",
       "      <td>remaster</td>\n",
       "      <td>1537098592</td>\n",
       "    </tr>\n",
       "  </tbody>\n",
       "</table>\n",
       "<p>233213 rows × 11 columns</p>\n",
       "</div>"
      ],
      "text/plain": [
       "        movieId   imdbId    tmdbId                           title  \\\n",
       "0             1   114709     862.0                Toy Story (1995)   \n",
       "1             1   114709     862.0                Toy Story (1995)   \n",
       "2             1   114709     862.0                Toy Story (1995)   \n",
       "3             1   114709     862.0                Toy Story (1995)   \n",
       "4             1   114709     862.0                Toy Story (1995)   \n",
       "...         ...      ...       ...                             ...   \n",
       "233208   187595  3778644  348350.0  Solo: A Star Wars Story (2018)   \n",
       "233209   193565  1636780   71172.0       Gintama: The Movie (2010)   \n",
       "233210   193565  1636780   71172.0       Gintama: The Movie (2010)   \n",
       "233211   193565  1636780   71172.0       Gintama: The Movie (2010)   \n",
       "233212   193565  1636780   71172.0       Gintama: The Movie (2010)   \n",
       "\n",
       "                                             genres  userId_x  rating  \\\n",
       "0       Adventure|Animation|Children|Comedy|Fantasy         1     4.0   \n",
       "1       Adventure|Animation|Children|Comedy|Fantasy         1     4.0   \n",
       "2       Adventure|Animation|Children|Comedy|Fantasy         1     4.0   \n",
       "3       Adventure|Animation|Children|Comedy|Fantasy         5     4.0   \n",
       "4       Adventure|Animation|Children|Comedy|Fantasy         5     4.0   \n",
       "...                                             ...       ...     ...   \n",
       "233208             Action|Adventure|Children|Sci-Fi       586     5.0   \n",
       "233209               Action|Animation|Comedy|Sci-Fi       184     3.5   \n",
       "233210               Action|Animation|Comedy|Sci-Fi       184     3.5   \n",
       "233211               Action|Animation|Comedy|Sci-Fi       184     3.5   \n",
       "233212               Action|Animation|Comedy|Sci-Fi       184     3.5   \n",
       "\n",
       "        timestamp_x  userId_y        tag  timestamp_y  \n",
       "0         964982703       336      pixar   1139045764  \n",
       "1         964982703       474      pixar   1137206825  \n",
       "2         964982703       567        fun   1525286013  \n",
       "3         847434962       336      pixar   1139045764  \n",
       "4         847434962       474      pixar   1137206825  \n",
       "...             ...       ...        ...          ...  \n",
       "233208   1529899556        62  star wars   1528934552  \n",
       "233209   1537098554       184      anime   1537098582  \n",
       "233210   1537098554       184     comedy   1537098587  \n",
       "233211   1537098554       184    gintama   1537098603  \n",
       "233212   1537098554       184   remaster   1537098592  \n",
       "\n",
       "[233213 rows x 11 columns]"
      ]
     },
     "execution_count": 9,
     "metadata": {},
     "output_type": "execute_result"
    }
   ],
   "source": [
    "df"
   ]
  },
  {
   "cell_type": "markdown",
   "id": "d7386fea",
   "metadata": {},
   "source": [
    "## Which movie has recieved maximum number of user ratings?"
   ]
  },
  {
   "cell_type": "code",
   "execution_count": 13,
   "id": "0d4c8a90",
   "metadata": {},
   "outputs": [
    {
     "name": "stdout",
     "output_type": "stream",
     "text": [
      "['Forrest Gump (1994)']\n"
     ]
    }
   ],
   "source": [
    "e=ratingdf['movieId'].value_counts()\n",
    "\n",
    "m=e.idxmax()\n",
    "\n",
    "n=moviesdf[moviesdf['movieId']==m]\n",
    "print(n['title'].tolist())"
   ]
  },
  {
   "cell_type": "markdown",
   "id": "df9e6c4a",
   "metadata": {},
   "source": [
    "# Select all the correct tags submitted by users to \"Matrix, The (1999)\" movie?"
   ]
  },
  {
   "cell_type": "code",
   "execution_count": 14,
   "id": "f3a81f79",
   "metadata": {},
   "outputs": [],
   "source": [
    "movie_name= \"Matrix, The (1999)\"\n",
    "movie_id = moviesdf[moviesdf['title'] == movie_name]['movieId'].iloc[0]\n",
    "T =tagdf[tagdf['movieId'] == movie_id]['tag']"
   ]
  },
  {
   "cell_type": "code",
   "execution_count": 15,
   "id": "40356540",
   "metadata": {},
   "outputs": [
    {
     "name": "stdout",
     "output_type": "stream",
     "text": [
      "815           martial arts\n",
      "816                 sci-fi\n",
      "1646    alternate universe\n",
      "2794            philosophy\n",
      "2795      post apocalyptic\n",
      "Name: tag, dtype: object\n"
     ]
    }
   ],
   "source": [
    "print(T)"
   ]
  },
  {
   "cell_type": "markdown",
   "id": "5ca09a78",
   "metadata": {},
   "source": [
    "## What is the average user rating for movie named \"Terminator 2: Judgment Day (1991)\"?"
   ]
  },
  {
   "cell_type": "code",
   "execution_count": 17,
   "id": "48f6e0f9",
   "metadata": {},
   "outputs": [],
   "source": [
    "name=\"Terminator 2: Judgment Day (1991)\""
   ]
  },
  {
   "cell_type": "code",
   "execution_count": 18,
   "id": "3dbe5449",
   "metadata": {},
   "outputs": [],
   "source": [
    "movies_df = pd.merge(ratingdf, moviesdf, on='movieId')"
   ]
  },
  {
   "cell_type": "code",
   "execution_count": 19,
   "id": "56f08a4d",
   "metadata": {},
   "outputs": [
    {
     "data": {
      "text/html": [
       "<div>\n",
       "<style scoped>\n",
       "    .dataframe tbody tr th:only-of-type {\n",
       "        vertical-align: middle;\n",
       "    }\n",
       "\n",
       "    .dataframe tbody tr th {\n",
       "        vertical-align: top;\n",
       "    }\n",
       "\n",
       "    .dataframe thead th {\n",
       "        text-align: right;\n",
       "    }\n",
       "</style>\n",
       "<table border=\"1\" class=\"dataframe\">\n",
       "  <thead>\n",
       "    <tr style=\"text-align: right;\">\n",
       "      <th></th>\n",
       "      <th>userId</th>\n",
       "      <th>movieId</th>\n",
       "      <th>rating</th>\n",
       "      <th>timestamp</th>\n",
       "      <th>title</th>\n",
       "      <th>genres</th>\n",
       "    </tr>\n",
       "  </thead>\n",
       "  <tbody>\n",
       "    <tr>\n",
       "      <th>0</th>\n",
       "      <td>1</td>\n",
       "      <td>1</td>\n",
       "      <td>4.0</td>\n",
       "      <td>964982703</td>\n",
       "      <td>Toy Story (1995)</td>\n",
       "      <td>Adventure|Animation|Children|Comedy|Fantasy</td>\n",
       "    </tr>\n",
       "    <tr>\n",
       "      <th>1</th>\n",
       "      <td>5</td>\n",
       "      <td>1</td>\n",
       "      <td>4.0</td>\n",
       "      <td>847434962</td>\n",
       "      <td>Toy Story (1995)</td>\n",
       "      <td>Adventure|Animation|Children|Comedy|Fantasy</td>\n",
       "    </tr>\n",
       "    <tr>\n",
       "      <th>2</th>\n",
       "      <td>7</td>\n",
       "      <td>1</td>\n",
       "      <td>4.5</td>\n",
       "      <td>1106635946</td>\n",
       "      <td>Toy Story (1995)</td>\n",
       "      <td>Adventure|Animation|Children|Comedy|Fantasy</td>\n",
       "    </tr>\n",
       "    <tr>\n",
       "      <th>3</th>\n",
       "      <td>15</td>\n",
       "      <td>1</td>\n",
       "      <td>2.5</td>\n",
       "      <td>1510577970</td>\n",
       "      <td>Toy Story (1995)</td>\n",
       "      <td>Adventure|Animation|Children|Comedy|Fantasy</td>\n",
       "    </tr>\n",
       "    <tr>\n",
       "      <th>4</th>\n",
       "      <td>17</td>\n",
       "      <td>1</td>\n",
       "      <td>4.5</td>\n",
       "      <td>1305696483</td>\n",
       "      <td>Toy Story (1995)</td>\n",
       "      <td>Adventure|Animation|Children|Comedy|Fantasy</td>\n",
       "    </tr>\n",
       "    <tr>\n",
       "      <th>...</th>\n",
       "      <td>...</td>\n",
       "      <td>...</td>\n",
       "      <td>...</td>\n",
       "      <td>...</td>\n",
       "      <td>...</td>\n",
       "      <td>...</td>\n",
       "    </tr>\n",
       "    <tr>\n",
       "      <th>100831</th>\n",
       "      <td>610</td>\n",
       "      <td>160341</td>\n",
       "      <td>2.5</td>\n",
       "      <td>1479545749</td>\n",
       "      <td>Bloodmoon (1997)</td>\n",
       "      <td>Action|Thriller</td>\n",
       "    </tr>\n",
       "    <tr>\n",
       "      <th>100832</th>\n",
       "      <td>610</td>\n",
       "      <td>160527</td>\n",
       "      <td>4.5</td>\n",
       "      <td>1479544998</td>\n",
       "      <td>Sympathy for the Underdog (1971)</td>\n",
       "      <td>Action|Crime|Drama</td>\n",
       "    </tr>\n",
       "    <tr>\n",
       "      <th>100833</th>\n",
       "      <td>610</td>\n",
       "      <td>160836</td>\n",
       "      <td>3.0</td>\n",
       "      <td>1493844794</td>\n",
       "      <td>Hazard (2005)</td>\n",
       "      <td>Action|Drama|Thriller</td>\n",
       "    </tr>\n",
       "    <tr>\n",
       "      <th>100834</th>\n",
       "      <td>610</td>\n",
       "      <td>163937</td>\n",
       "      <td>3.5</td>\n",
       "      <td>1493848789</td>\n",
       "      <td>Blair Witch (2016)</td>\n",
       "      <td>Horror|Thriller</td>\n",
       "    </tr>\n",
       "    <tr>\n",
       "      <th>100835</th>\n",
       "      <td>610</td>\n",
       "      <td>163981</td>\n",
       "      <td>3.5</td>\n",
       "      <td>1493850155</td>\n",
       "      <td>31 (2016)</td>\n",
       "      <td>Horror</td>\n",
       "    </tr>\n",
       "  </tbody>\n",
       "</table>\n",
       "<p>100836 rows × 6 columns</p>\n",
       "</div>"
      ],
      "text/plain": [
       "        userId  movieId  rating   timestamp                             title  \\\n",
       "0            1        1     4.0   964982703                  Toy Story (1995)   \n",
       "1            5        1     4.0   847434962                  Toy Story (1995)   \n",
       "2            7        1     4.5  1106635946                  Toy Story (1995)   \n",
       "3           15        1     2.5  1510577970                  Toy Story (1995)   \n",
       "4           17        1     4.5  1305696483                  Toy Story (1995)   \n",
       "...        ...      ...     ...         ...                               ...   \n",
       "100831     610   160341     2.5  1479545749                  Bloodmoon (1997)   \n",
       "100832     610   160527     4.5  1479544998  Sympathy for the Underdog (1971)   \n",
       "100833     610   160836     3.0  1493844794                     Hazard (2005)   \n",
       "100834     610   163937     3.5  1493848789                Blair Witch (2016)   \n",
       "100835     610   163981     3.5  1493850155                         31 (2016)   \n",
       "\n",
       "                                             genres  \n",
       "0       Adventure|Animation|Children|Comedy|Fantasy  \n",
       "1       Adventure|Animation|Children|Comedy|Fantasy  \n",
       "2       Adventure|Animation|Children|Comedy|Fantasy  \n",
       "3       Adventure|Animation|Children|Comedy|Fantasy  \n",
       "4       Adventure|Animation|Children|Comedy|Fantasy  \n",
       "...                                             ...  \n",
       "100831                              Action|Thriller  \n",
       "100832                           Action|Crime|Drama  \n",
       "100833                        Action|Drama|Thriller  \n",
       "100834                              Horror|Thriller  \n",
       "100835                                       Horror  \n",
       "\n",
       "[100836 rows x 6 columns]"
      ]
     },
     "execution_count": 19,
     "metadata": {},
     "output_type": "execute_result"
    }
   ],
   "source": [
    "movies_df"
   ]
  },
  {
   "cell_type": "code",
   "execution_count": 20,
   "id": "8002c311",
   "metadata": {},
   "outputs": [
    {
     "name": "stdout",
     "output_type": "stream",
     "text": [
      "The average user rating for 'Terminator 2: Judgment Day (1991)' is: 3.970982142857143\n"
     ]
    }
   ],
   "source": [
    "ratings = movies_df[movies_df['title'] == name]['rating']\n",
    "average_rating = ratings.mean()\n",
    "print(f\"The average user rating for '{name}' is: {average_rating}\")"
   ]
  },
  {
   "cell_type": "markdown",
   "id": "7ec413ec",
   "metadata": {},
   "source": [
    "## How does the data distribution of user ratings for \"Fight Club (1999)\" movie looks like?"
   ]
  },
  {
   "cell_type": "code",
   "execution_count": 23,
   "id": "511a914a",
   "metadata": {},
   "outputs": [
    {
     "data": {
      "image/png": "[encoded data removed]",
      "text/plain": [
       "<Figure size 640x480 with 1 Axes>"
      ]
     },
     "metadata": {},
     "output_type": "display_data"
    }
   ],
   "source": [
    "name=\"Fight Club (1999)\"\n",
    "ratings = movies_df[movies_df['title'] == movie_name]['rating']\n",
    "sns.set(style=\"whitegrid\")\n",
    "sns.distplot(ratings, kde=True, bins=5)\n",
    "plt.title(f'Distribution of User Ratings for \"{movie_name}\"')\n",
    "plt.xlabel('Rating')\n",
    "plt.ylabel('Frequency')\n",
    "plt.show()"
   ]
  },
  {
   "cell_type": "markdown",
   "id": "79c343eb",
   "metadata": {},
   "source": [
    "<!-- 🟢 IMPORTANT NOTE 1 🟢 -->"
   ]
  },
  {
   "cell_type": "markdown",
   "id": "dbcf4750",
   "metadata": {},
   "source": [
    "## 🟢 IMPORTANT NOTE 1 🟢\n"
   ]
  },
  {
   "cell_type": "code",
   "execution_count": 24,
   "id": "a5e041a6",
   "metadata": {},
   "outputs": [],
   "source": [
    "grouped = ratingdf.groupby('movieId').agg({'rating': ['count', 'mean']}).reset_index()\n",
    "grouped.columns = ['movieId', 'rating_count', 'rating_mean']"
   ]
  },
  {
   "cell_type": "code",
   "execution_count": 25,
   "id": "27fa52cf",
   "metadata": {},
   "outputs": [],
   "source": [
    "grouped_df = pd.merge(moviesdf, grouped, on='movieId', how='inner')\n",
    "fdf = grouped_df[grouped_df['rating_count'] > 50]"
   ]
  },
  {
   "cell_type": "markdown",
   "id": "c0de2136",
   "metadata": {},
   "source": [
    "## Which movie is the most popular based on average user ratings?"
   ]
  },
  {
   "cell_type": "code",
   "execution_count": null,
   "id": "dec75197",
   "metadata": {},
   "outputs": [],
   "source": [
    "# most_popular_movie = filtered_df[filtered_df['rating_mean'] == filtered_df['rating_mean'].max()]"
   ]
  },
  {
   "cell_type": "code",
   "execution_count": 26,
   "id": "11376f9a",
   "metadata": {},
   "outputs": [],
   "source": [
    "popular_movie = fdf[fdf['rating_mean'] ==fdf['rating_mean'].max()]"
   ]
  },
  {
   "cell_type": "code",
   "execution_count": 28,
   "id": "31d330fc",
   "metadata": {},
   "outputs": [
    {
     "name": "stdout",
     "output_type": "stream",
     "text": [
      "                                title  rating_mean\n",
      "277  Shawshank Redemption, The (1994)     4.429022\n"
     ]
    }
   ],
   "source": [
    "print(popular_movie[['title', 'rating_mean']])"
   ]
  },
  {
   "cell_type": "markdown",
   "id": "4074c2de",
   "metadata": {},
   "source": [
    "# Select all the correct options which comes under top 5 popular movies based on number of user ratings."
   ]
  },
  {
   "cell_type": "code",
   "execution_count": 33,
   "id": "a4b881ba",
   "metadata": {},
   "outputs": [],
   "source": [
    "sort = fdf.sort_values(by='rating_count', ascending=False)"
   ]
  },
  {
   "cell_type": "code",
   "execution_count": 34,
   "id": "fc365e02",
   "metadata": {},
   "outputs": [
    {
     "name": "stdout",
     "output_type": "stream",
     "text": [
      "                                 title  rating_count\n",
      "314                Forrest Gump (1994)           329\n",
      "277   Shawshank Redemption, The (1994)           317\n",
      "257                Pulp Fiction (1994)           307\n",
      "510   Silence of the Lambs, The (1991)           279\n",
      "1938                Matrix, The (1999)           278\n",
      "...                                ...           ...\n",
      "3147                       Blow (2001)            51\n",
      "3490               Training Day (2001)            51\n",
      "3539           Mulholland Drive (2001)            51\n",
      "118                    Bad Boys (1995)            51\n",
      "1235       The Devil's Advocate (1997)            51\n",
      "\n",
      "[436 rows x 2 columns]\n"
     ]
    }
   ],
   "source": [
    "print(sort[['title', 'rating_count']])"
   ]
  },
  {
   "cell_type": "markdown",
   "id": "d181c654",
   "metadata": {},
   "source": [
    "## Which Sci-Fi movie is \"third most popular\" based on the number of user ratings?"
   ]
  },
  {
   "cell_type": "code",
   "execution_count": 35,
   "id": "8844fa00",
   "metadata": {},
   "outputs": [],
   "source": [
    "fdf['genres'] = fdf['genres'].apply(lambda x: x.split(\"|\"))"
   ]
  },
  {
   "cell_type": "code",
   "execution_count": 36,
   "id": "78300ba8",
   "metadata": {},
   "outputs": [],
   "source": [
    "sdf = fdf[fdf['genres'].apply(lambda x: 'Sci-Fi' in x)]"
   ]
  },
  {
   "cell_type": "code",
   "execution_count": 37,
   "id": "4d85eaae",
   "metadata": {},
   "outputs": [],
   "source": [
    "sdf = sdf.sort_values(by='rating_count', ascending=False)"
   ]
  },
  {
   "cell_type": "code",
   "execution_count": 39,
   "id": "84978016",
   "metadata": {},
   "outputs": [
    {
     "name": "stdout",
     "output_type": "stream",
     "text": [
      "The third most popular Sci-Fi movie based on the number of user ratings is:\n",
      "title           Jurassic Park (1993)\n",
      "rating_count                     238\n",
      "Name: 418, dtype: object\n"
     ]
    }
   ],
   "source": [
    "t_movie = sdf.iloc[2]\n",
    "print(t_movie[['title', 'rating_count']])"
   ]
  },
  {
   "cell_type": "markdown",
   "id": "df5a64e8",
   "metadata": {},
   "source": [
    " ## IMPORTANT NOTE 2 "
   ]
  },
  {
   "cell_type": "code",
   "execution_count": 40,
   "id": "74dc898a",
   "metadata": {},
   "outputs": [],
   "source": [
    "import requests\n",
    "from bs4 import BeautifulSoup"
   ]
  },
  {
   "cell_type": "code",
   "execution_count": 61,
   "id": "b5b96d6e",
   "metadata": {},
   "outputs": [],
   "source": [
    "def scrapper(imdbId):\n",
    "    id = str(int(imdbId))\n",
    "    z = 7 - len(id)\n",
    "    d = \"0\" * z + id\n",
    "    URL = f\"https://www.imdb.com/title/tt{d}/\"\n",
    "    request_header = {\n",
    "        'Content-Type': 'text/html; charset=UTF-8',\n",
    "        'User-Agent': 'Mozilla/5.0 (Windows NT 10.0; Win64; x64; rv:109.0) Gecko/20100101 Firefox/119.0',\n",
    "        'Accept-Encoding': 'gzip, deflate, br'\n",
    "    }\n",
    "    response = requests.get(URL, headers=request_header)\n",
    "    soup = BeautifulSoup(response.text, 'html.parser')\n",
    "    imdb_rating = soup.find('span', attrs={'data-testid': 'ratingValue'})\n",
    "    return {'imdb_id': imdbId, 'rating': imdb_rating.text if imdb_rating else np.nan}"
   ]
  },
  {
   "cell_type": "code",
   "execution_count": 45,
   "id": "e7a7fc2b",
   "metadata": {},
   "outputs": [],
   "source": [
    "fdf['imdb_data'] = fdf['movieId'].apply(scrapper)"
   ]
  },
  {
   "cell_type": "code",
   "execution_count": 46,
   "id": "363047d8",
   "metadata": {},
   "outputs": [
    {
     "data": {
      "text/html": [
       "<div>\n",
       "<style scoped>\n",
       "    .dataframe tbody tr th:only-of-type {\n",
       "        vertical-align: middle;\n",
       "    }\n",
       "\n",
       "    .dataframe tbody tr th {\n",
       "        vertical-align: top;\n",
       "    }\n",
       "\n",
       "    .dataframe thead th {\n",
       "        text-align: right;\n",
       "    }\n",
       "</style>\n",
       "<table border=\"1\" class=\"dataframe\">\n",
       "  <thead>\n",
       "    <tr style=\"text-align: right;\">\n",
       "      <th></th>\n",
       "      <th>movieId</th>\n",
       "      <th>title</th>\n",
       "      <th>genres</th>\n",
       "      <th>rating_count</th>\n",
       "      <th>rating_mean</th>\n",
       "      <th>imdb_data</th>\n",
       "    </tr>\n",
       "  </thead>\n",
       "  <tbody>\n",
       "    <tr>\n",
       "      <th>0</th>\n",
       "      <td>1</td>\n",
       "      <td>Toy Story (1995)</td>\n",
       "      <td>[Adventure, Animation, Children, Comedy, Fantasy]</td>\n",
       "      <td>215</td>\n",
       "      <td>3.920930</td>\n",
       "      <td>{'imdb_id': 1, 'rating': nan}</td>\n",
       "    </tr>\n",
       "    <tr>\n",
       "      <th>1</th>\n",
       "      <td>2</td>\n",
       "      <td>Jumanji (1995)</td>\n",
       "      <td>[Adventure, Children, Fantasy]</td>\n",
       "      <td>110</td>\n",
       "      <td>3.431818</td>\n",
       "      <td>{'imdb_id': 2, 'rating': nan}</td>\n",
       "    </tr>\n",
       "    <tr>\n",
       "      <th>2</th>\n",
       "      <td>3</td>\n",
       "      <td>Grumpier Old Men (1995)</td>\n",
       "      <td>[Comedy, Romance]</td>\n",
       "      <td>52</td>\n",
       "      <td>3.259615</td>\n",
       "      <td>{'imdb_id': 3, 'rating': nan}</td>\n",
       "    </tr>\n",
       "    <tr>\n",
       "      <th>5</th>\n",
       "      <td>6</td>\n",
       "      <td>Heat (1995)</td>\n",
       "      <td>[Action, Crime, Thriller]</td>\n",
       "      <td>102</td>\n",
       "      <td>3.946078</td>\n",
       "      <td>{'imdb_id': 6, 'rating': nan}</td>\n",
       "    </tr>\n",
       "    <tr>\n",
       "      <th>6</th>\n",
       "      <td>7</td>\n",
       "      <td>Sabrina (1995)</td>\n",
       "      <td>[Comedy, Romance]</td>\n",
       "      <td>54</td>\n",
       "      <td>3.185185</td>\n",
       "      <td>{'imdb_id': 7, 'rating': nan}</td>\n",
       "    </tr>\n",
       "    <tr>\n",
       "      <th>...</th>\n",
       "      <td>...</td>\n",
       "      <td>...</td>\n",
       "      <td>...</td>\n",
       "      <td>...</td>\n",
       "      <td>...</td>\n",
       "      <td>...</td>\n",
       "    </tr>\n",
       "    <tr>\n",
       "      <th>8287</th>\n",
       "      <td>106782</td>\n",
       "      <td>Wolf of Wall Street, The (2013)</td>\n",
       "      <td>[Comedy, Crime, Drama]</td>\n",
       "      <td>54</td>\n",
       "      <td>3.916667</td>\n",
       "      <td>{'imdb_id': 106782, 'rating': nan}</td>\n",
       "    </tr>\n",
       "    <tr>\n",
       "      <th>8354</th>\n",
       "      <td>109374</td>\n",
       "      <td>Grand Budapest Hotel, The (2014)</td>\n",
       "      <td>[Comedy, Drama]</td>\n",
       "      <td>52</td>\n",
       "      <td>3.778846</td>\n",
       "      <td>{'imdb_id': 109374, 'rating': nan}</td>\n",
       "    </tr>\n",
       "    <tr>\n",
       "      <th>8358</th>\n",
       "      <td>109487</td>\n",
       "      <td>Interstellar (2014)</td>\n",
       "      <td>[Sci-Fi, IMAX]</td>\n",
       "      <td>73</td>\n",
       "      <td>3.993151</td>\n",
       "      <td>{'imdb_id': 109487, 'rating': nan}</td>\n",
       "    </tr>\n",
       "    <tr>\n",
       "      <th>8457</th>\n",
       "      <td>112852</td>\n",
       "      <td>Guardians of the Galaxy (2014)</td>\n",
       "      <td>[Action, Adventure, Sci-Fi]</td>\n",
       "      <td>59</td>\n",
       "      <td>4.050847</td>\n",
       "      <td>{'imdb_id': 112852, 'rating': nan}</td>\n",
       "    </tr>\n",
       "    <tr>\n",
       "      <th>8673</th>\n",
       "      <td>122904</td>\n",
       "      <td>Deadpool (2016)</td>\n",
       "      <td>[Action, Adventure, Comedy, Sci-Fi]</td>\n",
       "      <td>54</td>\n",
       "      <td>3.833333</td>\n",
       "      <td>{'imdb_id': 122904, 'rating': nan}</td>\n",
       "    </tr>\n",
       "  </tbody>\n",
       "</table>\n",
       "<p>436 rows × 6 columns</p>\n",
       "</div>"
      ],
      "text/plain": [
       "      movieId                             title  \\\n",
       "0           1                  Toy Story (1995)   \n",
       "1           2                    Jumanji (1995)   \n",
       "2           3           Grumpier Old Men (1995)   \n",
       "5           6                       Heat (1995)   \n",
       "6           7                    Sabrina (1995)   \n",
       "...       ...                               ...   \n",
       "8287   106782   Wolf of Wall Street, The (2013)   \n",
       "8354   109374  Grand Budapest Hotel, The (2014)   \n",
       "8358   109487               Interstellar (2014)   \n",
       "8457   112852    Guardians of the Galaxy (2014)   \n",
       "8673   122904                   Deadpool (2016)   \n",
       "\n",
       "                                                 genres  rating_count  \\\n",
       "0     [Adventure, Animation, Children, Comedy, Fantasy]           215   \n",
       "1                        [Adventure, Children, Fantasy]           110   \n",
       "2                                     [Comedy, Romance]            52   \n",
       "5                             [Action, Crime, Thriller]           102   \n",
       "6                                     [Comedy, Romance]            54   \n",
       "...                                                 ...           ...   \n",
       "8287                             [Comedy, Crime, Drama]            54   \n",
       "8354                                    [Comedy, Drama]            52   \n",
       "8358                                     [Sci-Fi, IMAX]            73   \n",
       "8457                        [Action, Adventure, Sci-Fi]            59   \n",
       "8673                [Action, Adventure, Comedy, Sci-Fi]            54   \n",
       "\n",
       "      rating_mean                           imdb_data  \n",
       "0        3.920930       {'imdb_id': 1, 'rating': nan}  \n",
       "1        3.431818       {'imdb_id': 2, 'rating': nan}  \n",
       "2        3.259615       {'imdb_id': 3, 'rating': nan}  \n",
       "5        3.946078       {'imdb_id': 6, 'rating': nan}  \n",
       "6        3.185185       {'imdb_id': 7, 'rating': nan}  \n",
       "...           ...                                 ...  \n",
       "8287     3.916667  {'imdb_id': 106782, 'rating': nan}  \n",
       "8354     3.778846  {'imdb_id': 109374, 'rating': nan}  \n",
       "8358     3.993151  {'imdb_id': 109487, 'rating': nan}  \n",
       "8457     4.050847  {'imdb_id': 112852, 'rating': nan}  \n",
       "8673     3.833333  {'imdb_id': 122904, 'rating': nan}  \n",
       "\n",
       "[436 rows x 6 columns]"
      ]
     },
     "execution_count": 46,
     "metadata": {},
     "output_type": "execute_result"
    }
   ],
   "source": [
    "fdf"
   ]
  },
  {
   "cell_type": "code",
   "execution_count": 58,
   "id": "bec998f3",
   "metadata": {},
   "outputs": [],
   "source": [
    "top_movie = fdf.loc[fdf['imdb_data'].apply(lambda x: float(x['rating']) if pd.notna(x['rating']) else 0).idxmax()]"
   ]
  },
  {
   "cell_type": "code",
   "execution_count": 59,
   "id": "0a444ffd",
   "metadata": {},
   "outputs": [
    {
     "data": {
      "text/plain": [
       "movieId                                                         1\n",
       "title                                            Toy Story (1995)\n",
       "genres          [Adventure, Animation, Children, Comedy, Fantasy]\n",
       "rating_count                                                  215\n",
       "rating_mean                                               3.92093\n",
       "imdb_data                           {'imdb_id': 1, 'rating': nan}\n",
       "Name: 0, dtype: object"
      ]
     },
     "execution_count": 59,
     "metadata": {},
     "output_type": "execute_result"
    }
   ],
   "source": [
    "top_movie"
   ]
  },
  {
   "cell_type": "code",
   "execution_count": 60,
   "id": "813de605",
   "metadata": {},
   "outputs": [
    {
     "name": "stdout",
     "output_type": "stream",
     "text": [
      "movieId                                  1\n",
      "title                     Toy Story (1995)\n",
      "imdb_data    {'imdb_id': 1, 'rating': nan}\n",
      "Name: 0, dtype: object\n"
     ]
    }
   ],
   "source": [
    "print(top_movie[['movieId','title', 'imdb_data']])"
   ]
  },
  {
   "cell_type": "markdown",
   "id": "33e6a302",
   "metadata": {},
   "source": [
    "# Mention the movieId of the \"Sci-Fi\" movie which has the highest IMDB rating?"
   ]
  },
  {
   "cell_type": "code",
   "execution_count": 52,
   "id": "814dcb75",
   "metadata": {},
   "outputs": [],
   "source": [
    "df = fdf[fdf['genres'].apply(lambda x: 'Sci-Fi' in x)]"
   ]
  },
  {
   "cell_type": "code",
   "execution_count": 53,
   "id": "15173d4b",
   "metadata": {},
   "outputs": [],
   "source": [
    "movie = df.loc[df['imdb_data'].apply(lambda x: float(x['rating']) if pd.notna(x['rating']) else 0).idxmax()]"
   ]
  },
  {
   "cell_type": "code",
   "execution_count": 57,
   "id": "d3cd1640",
   "metadata": {},
   "outputs": [
    {
     "data": {
      "text/plain": [
       "32"
      ]
     },
     "execution_count": 57,
     "metadata": {},
     "output_type": "execute_result"
    }
   ],
   "source": [
    "(movie['movieId'])"
   ]
  },
  {
   "cell_type": "code",
   "execution_count": null,
   "id": "10b4f22e",
   "metadata": {},
   "outputs": [],
   "source": []
  }
 ],
 "metadata": {
  "kernelspec": {
   "display_name": "Python 3 (ipykernel)",
   "language": "python",
   "name": "python3"
  },
  "language_info": {
   "codemirror_mode": {
    "name": "ipython",
    "version": 3
   },
   "file_extension": ".py",
   "mimetype": "text/x-python",
   "name": "python",
   "nbconvert_exporter": "python",
   "pygments_lexer": "ipython3",
   "version": "3.11.1"
  }
 },
 "nbformat": 4,
 "nbformat_minor": 5
}
